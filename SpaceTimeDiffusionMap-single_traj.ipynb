{
 "cells": [
  {
   "cell_type": "code",
   "execution_count": 56,
   "metadata": {
    "collapsed": false
   },
   "outputs": [
    {
     "name": "stdout",
     "output_type": "stream",
     "text": [
      "Populating the interactive namespace from numpy and matplotlib\n"
     ]
    },
    {
     "name": "stderr",
     "output_type": "stream",
     "text": [
      "WARNING: pylab import has clobbered these variables: ['matrix']\n",
      "`%matplotlib` prevents importing * from pylab and numpy\n"
     ]
    }
   ],
   "source": [
    "import numpy as np\n",
    "import mdtraj as md\n",
    "import matplotlib.pyplot as plt\n",
    "import pyemma\n",
    "from pyemma import msm, plots    # pyemma APIs\n",
    "\n",
    "import scipy\n",
    "import scipy.sparse as sps  \n",
    "\n",
    "import time\n",
    "import scipy.sparse.linalg as spl\n",
    "import sklearn.neighbors as neigh_search      \n",
    "import sklearn.cluster as skl_cl\n",
    "import sys\n",
    "\n",
    "%pylab inline\n",
    "%config InlineBackend.figure_format='svg'"
   ]
  },
  {
   "cell_type": "markdown",
   "metadata": {},
   "source": [
    "## Space Time Diffusion Map helper functions"
   ]
  },
  {
   "cell_type": "code",
   "execution_count": 41,
   "metadata": {
    "collapsed": true
   },
   "outputs": [],
   "source": [
    "def kernel_neighbor_search(A, r, epsilon, sparse=False):\n",
    "    \"\"\"\n",
    "    Analyzes one frame: uses a nearest neighbor algorithm to compute all distances up to cutoff r, \n",
    "    generates the diffusion kernel sparse matrix\n",
    "    \n",
    "    Parameters:\n",
    "        A:   nparray (m, 3), m number of heavy atoms\n",
    "             array of coordinates of heavy atoms\n",
    "        r:   scalar, cutoff\n",
    "        epsilon: scalar, localscale\n",
    "             \n",
    "    Return:\n",
    "        kernel: sparse matrix (m,m)\n",
    "                diffusion kernel matrix (to be passed on to the SpaceTimeDMap subroutine)\n",
    "    \"\"\"\n",
    "\n",
    "    #calling nearest neighbor search class\n",
    "    kernel = neigh_search.radius_neighbors_graph(A, r, mode='distance')\n",
    "    # computing the diffusion kernel value at the non zero matrix entries\n",
    "    kernel.data = np.exp(-(kernel.data**2)/(epsilon))\n",
    "\n",
    "    # diagonal needs to be added separately\n",
    "    kernel = kernel + sps.identity(kernel.shape[0], format = 'csr')\n",
    "\n",
    "    if sparse:\n",
    "        return kernel\n",
    "    else:\n",
    "        return kernel.toarray()\n",
    "\n"
   ]
  },
  {
   "cell_type": "code",
   "execution_count": 42,
   "metadata": {
    "collapsed": true
   },
   "outputs": [],
   "source": [
    "def matrix_B(kernel, sparse = False):\n",
    "\n",
    "    if sparse:\n",
    "        m = kernel.shape[0]\n",
    "        D = sps.csr_matrix.sum(kernel, axis=0)\n",
    "        Q = sps.spdiags(1./D, 0, m, m)\n",
    "        S = kernel * Q\n",
    "        B = (S*(sps.csr_matrix.transpose(S)))/(sps.csr_matrix.sum(S, axis=1))\n",
    "    else:\n",
    "        D = np.sum(kernel, axis = 1)\n",
    "        S = kernel*(1./D)\n",
    "        B = (np.dot(S, S.T)/(np.sum(S, axis = 1))).T\n",
    "\n",
    "    return B"
   ]
  },
  {
   "cell_type": "code",
   "execution_count": 69,
   "metadata": {
    "collapsed": true
   },
   "outputs": [],
   "source": [
    "def compute_SpaceTimeDMap(X, r, epsilon, sparse=False):\n",
    "    \"\"\"\n",
    "    computes the SpaceTime DIffusion Map matrix out of the dataset available\n",
    "    Parameters\n",
    "    -------------------\n",
    "    X: array T x m x 3\n",
    "      array of T time slices x 3m features (m=number of atoms, features are xyz-coordinates of the atoms)\n",
    "    r: scalar\n",
    "      cutoff radius for diffusion kernel\n",
    "    epsilon: scalar\n",
    "      scale parameter\n",
    "    \n",
    "    Returns\n",
    "    -------------------\n",
    "    ll: np.darray(m)\n",
    "      eigenvalues of the SpaceTime DMap\n",
    "    u: ndarray(m,m)\n",
    "      eigenvectors of the SpaceTime DMap. u[:,i] is the ith eigenvector corresponding to i-th eigenvalue\n",
    "    SptDM: ndarray(m,m)\n",
    "      SpaceTime Diffusion Matrix, eq (3.13) in the paper, time average of all the matrices in the cell list\n",
    "    \"\"\"\n",
    "\n",
    "    # initialize the Spacetime Diffusion Map matrix \n",
    "    # that will be averaged over the different timeslices \n",
    "    # and the over the different trajectories \n",
    "    m = np.shape(X)[1]\n",
    "    T = np.shape(X)[0]\n",
    "    \n",
    "    #SptDM =  sps.csr_matrix((m, m)) \n",
    "    SptDM = np.zeros((m,m))\n",
    "\n",
    "    # loop over trajectory\n",
    "    \n",
    "    for i_t in range(T):\n",
    "        if (i_t % 1e4==0):\n",
    "            print 'time slice ' + str(i_t)\n",
    "        # selecting the heavy atoms coordinates in the timeslice s\n",
    "        # compute diffusion kernel using data at timeslice s\n",
    "        distance_kernel = kernel_neighbor_search(X[i_t,:,:], r, epsilon, sparse=sparse)\n",
    "        SptDM += matrix_B(distance_kernel, sparse=sparse)\n",
    "\n",
    "    # divide by the total number of timeslices considered\n",
    "    # this define the Q operator \n",
    "    SptDM /= T\n",
    "\n",
    "    # Computing eigenvalues and eigenvectors of the SpaceTime DMap\n",
    "    if sparse:\n",
    "        ll, u = spl.eigs(SptDM, k = 50, which = 'LR')\n",
    "        ll, u = sort_by_norm(ll, u)\n",
    "    else:\n",
    "        ll, u = np.linalg.eig(SptDM)\n",
    "        ll, u = sort_by_norm(ll, u)\n",
    "\n",
    "    return ll, u, SptDM"
   ]
  },
  {
   "cell_type": "code",
   "execution_count": 70,
   "metadata": {
    "collapsed": true
   },
   "outputs": [],
   "source": [
    "def sort_by_norm(evals, evecs):\n",
    "    \"\"\"\n",
    "    Sorts the eigenvalues and eigenvectors by descending norm of the eigenvalues\n",
    "    Parameters\n",
    "    ----------\n",
    "    evals: ndarray(n)\n",
    "        eigenvalues\n",
    "    evecs: ndarray(n,n)\n",
    "        eigenvectors in a column matrix\n",
    "    Returns\n",
    "    -------\n",
    "    (evals, evecs) : ndarray(m), ndarray(n,m)\n",
    "        the sorted eigenvalues and eigenvectors\n",
    "    \"\"\"\n",
    "    # norms\n",
    "    evnorms = np.abs(evals)\n",
    "    # sort\n",
    "    I = np.argsort(evnorms)[::-1]\n",
    "    # permute\n",
    "    evals2 = evals[I]\n",
    "    evecs2 = evecs[:, I]\n",
    "    # done\n",
    "    return (evals2, evecs2)"
   ]
  },
  {
   "cell_type": "code",
   "execution_count": 71,
   "metadata": {
    "collapsed": true
   },
   "outputs": [],
   "source": [
    "def reshape_array(X):\n",
    "    T, m = np.shape(X)\n",
    "    d = 3\n",
    "    m = m / d\n",
    "    A = np.zeros((T, m, d))\n",
    "    for i_t in range(T):\n",
    "        A[i_t,:,0] = X[i_t,np.arange(0,3*m,3)];\n",
    "        A[i_t,:,1] = X[i_t,np.arange(1,3*m,3)];\n",
    "        A[i_t,:,2] = X[i_t,np.arange(2,3*m,3)];\n",
    "    return A"
   ]
  },
  {
   "cell_type": "markdown",
   "metadata": {},
   "source": [
    "### parameters"
   ]
  },
  {
   "cell_type": "code",
   "execution_count": 62,
   "metadata": {
    "collapsed": false
   },
   "outputs": [
    {
     "name": "stdout",
     "output_type": "stream",
     "text": [
      "Number of trajectories     = 2\n",
      "Trajectory timestep [ns]   = 0.2\n",
      "Number of configurations   = 50\n",
      "Considering epsilon values = [0.4, 0.6, 0.8]\n",
      "Output file                = fip35_example.npz\n"
     ]
    }
   ],
   "source": [
    "delta = 0.2   # in ns\n",
    "print('Trajectory timestep [ns]   = ' + str(delta))\n",
    "\n",
    "# topology file\n",
    "topfile = path + 'firstframe.pdb'\n",
    "\n",
    "# trajectory file\n",
    "filename = path + 'ww_1-protein-00' + str(i) + '.dcd'\n",
    "\n",
    "# indices of those configurations to run SpaceTime DMap on\n",
    "my_idx = np.random.randint(2000, size = 50)\n",
    "print('Number of configurations   = ' + str(len(my_idx)))\n",
    "\n",
    "eps_list = [0.4, 0.6, 0.8]\n",
    "print('Considering epsilon values = ' + str(eps_list))\n",
    "\n",
    "\n",
    "out_file = 'fip35_example.npz'\n",
    "print('Output file                = ' + str(out_file))\n",
    "\n",
    "path = './'"
   ]
  },
  {
   "cell_type": "markdown",
   "metadata": {},
   "source": [
    "### Loading trajectory data"
   ]
  },
  {
   "cell_type": "code",
   "execution_count": 75,
   "metadata": {
    "collapsed": false
   },
   "outputs": [
    {
     "name": "stdout",
     "output_type": "stream",
     "text": [
      "<mdtraj.Trajectory with 1 frames, 562 atoms, 35 residues, without unitcells>\n",
      "<mdtraj.Topology with 1 chains, 35 residues, 562 atoms, 571 bonds>\n",
      "\n",
      "\n",
      "Initializing name of trajectory file:\n",
      "./ww_1-protein-001.dcd\n"
     ]
    }
   ],
   "source": [
    "# load an look into topology file\n",
    "reftraj = md.load(topfile)\n",
    "print reftraj\n",
    "print reftraj.topology\n",
    "print '\\n'\n",
    "\n",
    "print('Initializing name of trajectory file:')\n",
    "print(filename)\n",
    "sys.stdout.flush()"
   ]
  },
  {
   "cell_type": "code",
   "execution_count": 72,
   "metadata": {
    "collapsed": false
   },
   "outputs": [
    {
     "name": "stdout",
     "output_type": "stream",
     "text": [
      "define basis functions: heavy atom coordinates\n",
      "Loading trajectory...\n",
      "(10000, 864)\n",
      "\n",
      " Subsampling trajectory...\n",
      "number of frames to use as input below = 50\n",
      "\n",
      "\n"
     ]
    }
   ],
   "source": [
    "import pyemma.coordinates as coor\n",
    "\n",
    "# define features to load for spacetime diffusion map analysis\n",
    "\n",
    "# use heavy atom coordinates is the default option. Other option (such as contacts) will be available in\n",
    "# a future release\n",
    "\n",
    "#------------------------\n",
    "# loading the trajectory will require (most likely) a lot of computing time and a lot of memory.\n",
    "# Should this be case, we strongly recommend that the whole calculation be run on a cluster and not \n",
    "# on one's own laptop\n",
    "#------------------------\n",
    "\n",
    "print('define basis functions: heavy atom coordinates')\n",
    "sys.stdout.flush()\n",
    "\n",
    "featurizer = coor.featurizer(topfile)\n",
    "featurizer.add_selection(featurizer.select_Heavy())\n",
    "\n",
    "#print(featurizer.describe())        # extensive list of features used\n",
    "#print(featurizer.dimension())        # number of features input\n",
    "#sys.stdout.flush()\n",
    "\n",
    "# use featurizer to read in trajectory\n",
    "print('Loading trajectory...')\n",
    "inp = coor.source(filename, featurizer, chunk_size=10000)\n",
    "\n",
    "# extract output into an array\n",
    "X = np.array(inp.get_output()[0])\n",
    "print X.shape\n",
    "\n",
    "# extracting the (indices) subset of configurations from the whole trajectory that was just loaded\n",
    "print('\\n Subsampling trajectory...')\n",
    "X_slice = X[my_idx,:]\n",
    "print('number of frames to use as input below = ' + str(np.shape(X_slice)[0]))\n",
    "\n",
    "print('\\n')\n",
    "if np.shape(X_slice)[0] != len(my_idx):\n",
    "    print('ACHTUNG! Something went wrong with the selection of the frames')"
   ]
  },
  {
   "cell_type": "markdown",
   "metadata": {},
   "source": [
    "### Load Space Time Diffusion Map helper functions"
   ]
  },
  {
   "cell_type": "code",
   "execution_count": 73,
   "metadata": {
    "collapsed": false
   },
   "outputs": [
    {
     "name": "stdout",
     "output_type": "stream",
     "text": [
      " ################         Perform spacetime diffusion map calculations...     ################\n",
      "Reshaping...\n",
      "(50, 288, 3)\n",
      "epsilon = 0.4\n",
      "time slice 0\n",
      "epsilon = 0.6\n",
      "time slice 0\n",
      "epsilon = 0.8\n",
      "time slice 0\n"
     ]
    }
   ],
   "source": [
    "#--------------------------------------------------------------------\n",
    "# Effectively Run spacetime diffusion map analysis\n",
    "# --------------------------------------------------------------------\n",
    "\n",
    "print(' ################         Perform spacetime diffusion map calculations...     ################')\n",
    "\n",
    "print('Reshaping...')\n",
    "X = reshape_array(X_slice)\n",
    "print X.shape\n",
    "sys.stdout.flush()\n",
    "\n",
    "n_conf = len(my_idx)      # number of configurations\n",
    "\n",
    "matrix = []               # space time diffusion map matrix\n",
    "eigenvalues = []          # eigenvalues\n",
    "eigenvectors = []         # eigenvectors (--> to be used as clustering coordinates later)\n",
    "\n",
    "\n",
    "for eps in eps_list:\n",
    "    \n",
    "    print('epsilon = ' + str(eps))\n",
    "    sys.stdout.flush()\n",
    "    r = 2*np.sqrt(eps);\n",
    "    \n",
    "    ll, u, SptDM = compute_SpaceTimeDMap(X, r, eps, sparse=False);  \n",
    "    \n",
    "    # append results\n",
    "    eigenvalues.append(ll)\n",
    "    eigenvectors.append(u)\n",
    "    matrix.append(SptDM)"
   ]
  },
  {
   "cell_type": "code",
   "execution_count": 74,
   "metadata": {
    "collapsed": false
   },
   "outputs": [
    {
     "name": "stdout",
     "output_type": "stream",
     "text": [
      "File where space time diffusion map results are going to be stored in = fip35_example.npz\n",
      "Computation and Saving step successful! Data ready to be analyzed\n"
     ]
    }
   ],
   "source": [
    "#----------------------------------------------------------------------\n",
    "# save results\n",
    "#---------------------------------------------------------------------\n",
    "\n",
    "# saving step\n",
    "my_dict = {}\n",
    "\n",
    "my_dict['epsilon'] = eps_list\n",
    "my_dict['lambdas'] = eigenvalues\n",
    "my_dict['eigenvectors'] = eigenvectors\n",
    "my_dict['matrix']  = matrix\n",
    "my_dict['number_of_frames'] = n_conf\n",
    "#my_dict['config'] = X.shape[1]\n",
    "\n",
    "# this is the file where spacetimediffusionmap results are going to be stored\n",
    "print('File where space time diffusion map results are going to be stored in = ' + str(out_file))\n",
    "np.savez_compressed(out_file, **my_dict)\n",
    "\n",
    "print('Computation and Saving step successful! Data ready to be analyzed')"
   ]
  }
 ],
 "metadata": {
  "kernelspec": {
   "display_name": "Python 2",
   "language": "python",
   "name": "python2"
  },
  "language_info": {
   "codemirror_mode": {
    "name": "ipython",
    "version": 2
   },
   "file_extension": ".py",
   "mimetype": "text/x-python",
   "name": "python",
   "nbconvert_exporter": "python",
   "pygments_lexer": "ipython2",
   "version": "2.7.11"
  }
 },
 "nbformat": 4,
 "nbformat_minor": 0
}
